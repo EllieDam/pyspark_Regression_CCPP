{
 "cells": [
  {
   "cell_type": "markdown",
   "id": "86b7abe7",
   "metadata": {
    "id": "86b7abe7"
   },
   "source": [
    "## Question 3: Regression - Combined Cycle Power Plant\n",
    "- Use CCPP dataset to build a model to predict the net hourly electrical energy output (EP) of the plant based on Features consist of hourly average ambient variables Temperature (T), Ambient Pressure (AP), Relative Humidity (RH) and Exhaust Vacuum (V)\n",
    "- Read more information here:\n",
    "http://archive.ics.uci.edu/ml/datasets/Combined+Cycle+Power+Plant"
   ]
  },
  {
   "cell_type": "markdown",
   "id": "VLpEiR3YIX1h",
   "metadata": {
    "id": "VLpEiR3YIX1h"
   },
   "source": [
    "# 0.Working environment preparation & Package import"
   ]
  },
  {
   "cell_type": "code",
   "execution_count": 1,
   "id": "c3778bc2",
   "metadata": {
    "id": "c3778bc2"
   },
   "outputs": [],
   "source": [
    "# !apt-get update"
   ]
  },
  {
   "cell_type": "code",
   "execution_count": 2,
   "id": "5a420e73",
   "metadata": {
    "id": "5a420e73"
   },
   "outputs": [],
   "source": [
    "# !apt-get install openjdk-8-jdk-headless -qq > /dev/null\n",
    "# !wget -q http://archive.apache.org/dist/spark/spark-2.4.0/spark-2.4.0-bin-hadoop2.7.tgz\n",
    "# !tar -xvf spark-2.4.0-bin-hadoop2.7.tgz\n",
    "# !pip install -q findspark\n",
    "# import os\n",
    "# os.environ[\"JAVA_HOME\"] = \"/usr/lib/jvm/java-8-openjdk-amd64\"\n",
    "# os.environ[\"SPARK_HOME\"] = \"/content/spark-2.4.0-bin-hadoop2.7\""
   ]
  },
  {
   "cell_type": "code",
   "execution_count": 3,
   "id": "854166ef",
   "metadata": {
    "id": "854166ef"
   },
   "outputs": [],
   "source": [
    "# from google.colab import drive\n",
    "# drive.mount('/content/gdrive', force_remount=True)"
   ]
  },
  {
   "cell_type": "code",
   "execution_count": 4,
   "id": "ae87bb3a",
   "metadata": {
    "id": "ae87bb3a"
   },
   "outputs": [],
   "source": [
    "# %cd \"/content/gdrive/MyDrive/LDS9_K272_ONLINE_DamThiMinhPhuong/Demo/Chapter7\""
   ]
  },
  {
   "cell_type": "code",
   "execution_count": 5,
   "id": "84e5a85e",
   "metadata": {
    "id": "84e5a85e"
   },
   "outputs": [],
   "source": [
    "import findspark\n",
    "findspark.init()\n",
    "from pyspark import SparkContext\n",
    "from pyspark.conf import SparkConf\n",
    "from pyspark.sql import SparkSession"
   ]
  },
  {
   "cell_type": "code",
   "execution_count": 72,
   "id": "8576d579",
   "metadata": {},
   "outputs": [],
   "source": [
    "import pandas as pd\n",
    "import matplotlib.pyplot as plt\n",
    "import seaborn as sns\n",
    "import warnings\n",
    "warnings.filterwarnings('ignore')\n",
    "\n",
    "from pyspark.sql.functions import *\n",
    "from pyspark.sql.types import *\n",
    "from pyspark.ml.feature import VectorAssembler\n",
    "from pyspark.ml.linalg import Vector\n",
    "from pyspark.ml.regression import LinearRegression, DecisionTreeRegressor\n",
    "from pyspark.ml.regression import RandomForestRegressor, GBTRegressor\n",
    "from pyspark.ml.evaluation import RegressionEvaluator"
   ]
  },
  {
   "cell_type": "markdown",
   "id": "f6d9dcf9",
   "metadata": {},
   "source": [
    "# 1. Dataset understanding"
   ]
  },
  {
   "cell_type": "code",
   "execution_count": 7,
   "id": "beb8e266",
   "metadata": {
    "scrolled": false
   },
   "outputs": [
    {
     "name": "stderr",
     "output_type": "stream",
     "text": [
      "22/01/20 14:42:40 WARN Utils: Your hostname, Ellies-MacBook-Pro.local resolves to a loopback address: 127.0.0.1; using 192.168.1.3 instead (on interface en0)\n",
      "22/01/20 14:42:40 WARN Utils: Set SPARK_LOCAL_IP if you need to bind to another address\n",
      "Using Spark's default log4j profile: org/apache/spark/log4j-defaults.properties\n",
      "Setting default log level to \"WARN\".\n",
      "To adjust logging level use sc.setLogLevel(newLevel). For SparkR, use setLogLevel(newLevel).\n",
      "22/01/20 14:42:40 WARN NativeCodeLoader: Unable to load native-hadoop library for your platform... using builtin-java classes where applicable\n"
     ]
    }
   ],
   "source": [
    "spark = SparkSession.builder.appName('Q3_regression').getOrCreate()"
   ]
  },
  {
   "cell_type": "code",
   "execution_count": 8,
   "id": "ff7c60db",
   "metadata": {},
   "outputs": [],
   "source": [
    "# Read excel file using pandas\n",
    "xls = pd.ExcelFile('data/CCPP/Folds5x2_pp.xlsx')\n",
    "df1 = pd.read_excel(xls, 'Sheet1')\n",
    "df2 = pd.read_excel(xls, 'Sheet2')\n",
    "df3 = pd.read_excel(xls, 'Sheet3')\n",
    "df4 = pd.read_excel(xls, 'Sheet4')\n",
    "df5 = pd.read_excel(xls, 'Sheet5')"
   ]
  },
  {
   "cell_type": "code",
   "execution_count": 9,
   "id": "3fa71220",
   "metadata": {},
   "outputs": [
    {
     "data": {
      "text/html": [
       "<div>\n",
       "<style scoped>\n",
       "    .dataframe tbody tr th:only-of-type {\n",
       "        vertical-align: middle;\n",
       "    }\n",
       "\n",
       "    .dataframe tbody tr th {\n",
       "        vertical-align: top;\n",
       "    }\n",
       "\n",
       "    .dataframe thead th {\n",
       "        text-align: right;\n",
       "    }\n",
       "</style>\n",
       "<table border=\"1\" class=\"dataframe\">\n",
       "  <thead>\n",
       "    <tr style=\"text-align: right;\">\n",
       "      <th></th>\n",
       "      <th>AT</th>\n",
       "      <th>V</th>\n",
       "      <th>AP</th>\n",
       "      <th>RH</th>\n",
       "      <th>PE</th>\n",
       "    </tr>\n",
       "  </thead>\n",
       "  <tbody>\n",
       "    <tr>\n",
       "      <th>0</th>\n",
       "      <td>14.96</td>\n",
       "      <td>41.76</td>\n",
       "      <td>1024.07</td>\n",
       "      <td>73.17</td>\n",
       "      <td>463.26</td>\n",
       "    </tr>\n",
       "    <tr>\n",
       "      <th>1</th>\n",
       "      <td>25.18</td>\n",
       "      <td>62.96</td>\n",
       "      <td>1020.04</td>\n",
       "      <td>59.08</td>\n",
       "      <td>444.37</td>\n",
       "    </tr>\n",
       "    <tr>\n",
       "      <th>2</th>\n",
       "      <td>5.11</td>\n",
       "      <td>39.40</td>\n",
       "      <td>1012.16</td>\n",
       "      <td>92.14</td>\n",
       "      <td>488.56</td>\n",
       "    </tr>\n",
       "  </tbody>\n",
       "</table>\n",
       "</div>"
      ],
      "text/plain": [
       "      AT      V       AP     RH      PE\n",
       "0  14.96  41.76  1024.07  73.17  463.26\n",
       "1  25.18  62.96  1020.04  59.08  444.37\n",
       "2   5.11  39.40  1012.16  92.14  488.56"
      ]
     },
     "execution_count": 9,
     "metadata": {},
     "output_type": "execute_result"
    }
   ],
   "source": [
    "# concat 5 sheets into 1\n",
    "df = pd.concat([df1, df2, df3, df4, df5])\n",
    "df.head(3)"
   ]
  },
  {
   "cell_type": "code",
   "execution_count": 10,
   "id": "b9468632",
   "metadata": {},
   "outputs": [
    {
     "data": {
      "text/plain": [
       "(47840, 5)"
      ]
     },
     "execution_count": 10,
     "metadata": {},
     "output_type": "execute_result"
    }
   ],
   "source": [
    "df.shape"
   ]
  },
  {
   "cell_type": "code",
   "execution_count": 11,
   "id": "fa228225",
   "metadata": {},
   "outputs": [
    {
     "name": "stdout",
     "output_type": "stream",
     "text": [
      "<class 'pandas.core.frame.DataFrame'>\n",
      "Int64Index: 47840 entries, 0 to 9567\n",
      "Data columns (total 5 columns):\n",
      " #   Column  Non-Null Count  Dtype  \n",
      "---  ------  --------------  -----  \n",
      " 0   AT      47840 non-null  float64\n",
      " 1   V       47840 non-null  float64\n",
      " 2   AP      47840 non-null  float64\n",
      " 3   RH      47840 non-null  float64\n",
      " 4   PE      47840 non-null  float64\n",
      "dtypes: float64(5)\n",
      "memory usage: 2.2 MB\n"
     ]
    }
   ],
   "source": [
    "df.info()"
   ]
  },
  {
   "cell_type": "code",
   "execution_count": 12,
   "id": "f686e1ad",
   "metadata": {},
   "outputs": [],
   "source": [
    "# convert pandas dataframe to pyspark dataframe\n",
    "df_schema = StructType([StructField(\"AT\", FloatType(), True),\n",
    "                        StructField(\"V\" , FloatType(), True),\n",
    "                        StructField(\"AP\", FloatType(), True),\n",
    "                        StructField(\"RH\", FloatType(), True),\n",
    "                        StructField(\"PE\", FloatType(), True),\n",
    "                       ])\n",
    "data = spark.createDataFrame(df, schema=df_schema)"
   ]
  },
  {
   "cell_type": "code",
   "execution_count": 13,
   "id": "fd4b0cd3",
   "metadata": {},
   "outputs": [
    {
     "name": "stderr",
     "output_type": "stream",
     "text": [
      "                                                                                \r"
     ]
    },
    {
     "data": {
      "text/plain": [
       "47840"
      ]
     },
     "execution_count": 13,
     "metadata": {},
     "output_type": "execute_result"
    }
   ],
   "source": [
    "data.count()"
   ]
  },
  {
   "cell_type": "code",
   "execution_count": 14,
   "id": "15f39b74",
   "metadata": {},
   "outputs": [
    {
     "name": "stdout",
     "output_type": "stream",
     "text": [
      "root\n",
      " |-- AT: float (nullable = true)\n",
      " |-- V: float (nullable = true)\n",
      " |-- AP: float (nullable = true)\n",
      " |-- RH: float (nullable = true)\n",
      " |-- PE: float (nullable = true)\n",
      "\n"
     ]
    }
   ],
   "source": [
    "data.printSchema()"
   ]
  },
  {
   "cell_type": "code",
   "execution_count": 15,
   "id": "65889ff3",
   "metadata": {},
   "outputs": [
    {
     "name": "stdout",
     "output_type": "stream",
     "text": [
      "+-----+-----+-------+-----+------+\n",
      "|   AT|    V|     AP|   RH|    PE|\n",
      "+-----+-----+-------+-----+------+\n",
      "|14.96|41.76|1024.07|73.17|463.26|\n",
      "|25.18|62.96|1020.04|59.08|444.37|\n",
      "| 5.11| 39.4|1012.16|92.14|488.56|\n",
      "|20.86|57.32|1010.24|76.64|446.48|\n",
      "|10.82| 37.5|1009.23|96.62| 473.9|\n",
      "+-----+-----+-------+-----+------+\n",
      "only showing top 5 rows\n",
      "\n"
     ]
    }
   ],
   "source": [
    "data.show(5)"
   ]
  },
  {
   "cell_type": "markdown",
   "id": "dd3fba45",
   "metadata": {},
   "source": [
    "# 2. Data preprocessing"
   ]
  },
  {
   "cell_type": "markdown",
   "id": "502c66f2",
   "metadata": {},
   "source": [
    "## --- Data cleaning"
   ]
  },
  {
   "cell_type": "code",
   "execution_count": 16,
   "id": "5f890f16",
   "metadata": {},
   "outputs": [
    {
     "data": {
      "text/html": [
       "<div>\n",
       "<style scoped>\n",
       "    .dataframe tbody tr th:only-of-type {\n",
       "        vertical-align: middle;\n",
       "    }\n",
       "\n",
       "    .dataframe tbody tr th {\n",
       "        vertical-align: top;\n",
       "    }\n",
       "\n",
       "    .dataframe thead th {\n",
       "        text-align: right;\n",
       "    }\n",
       "</style>\n",
       "<table border=\"1\" class=\"dataframe\">\n",
       "  <thead>\n",
       "    <tr style=\"text-align: right;\">\n",
       "      <th></th>\n",
       "      <th>AT</th>\n",
       "      <th>V</th>\n",
       "      <th>AP</th>\n",
       "      <th>RH</th>\n",
       "      <th>PE</th>\n",
       "    </tr>\n",
       "  </thead>\n",
       "  <tbody>\n",
       "    <tr>\n",
       "      <th>0</th>\n",
       "      <td>0</td>\n",
       "      <td>0</td>\n",
       "      <td>0</td>\n",
       "      <td>0</td>\n",
       "      <td>0</td>\n",
       "    </tr>\n",
       "  </tbody>\n",
       "</table>\n",
       "</div>"
      ],
      "text/plain": [
       "   AT  V  AP  RH  PE\n",
       "0   0  0   0   0   0"
      ]
     },
     "execution_count": 16,
     "metadata": {},
     "output_type": "execute_result"
    }
   ],
   "source": [
    "# Check null values\n",
    "data.select([count(when(col(c).isNull(), c)).alias(c) for c in data.columns]).toPandas()"
   ]
  },
  {
   "cell_type": "code",
   "execution_count": 17,
   "id": "0b570d83",
   "metadata": {},
   "outputs": [
    {
     "data": {
      "text/html": [
       "<div>\n",
       "<style scoped>\n",
       "    .dataframe tbody tr th:only-of-type {\n",
       "        vertical-align: middle;\n",
       "    }\n",
       "\n",
       "    .dataframe tbody tr th {\n",
       "        vertical-align: top;\n",
       "    }\n",
       "\n",
       "    .dataframe thead th {\n",
       "        text-align: right;\n",
       "    }\n",
       "</style>\n",
       "<table border=\"1\" class=\"dataframe\">\n",
       "  <thead>\n",
       "    <tr style=\"text-align: right;\">\n",
       "      <th></th>\n",
       "      <th>AT</th>\n",
       "      <th>V</th>\n",
       "      <th>AP</th>\n",
       "      <th>RH</th>\n",
       "      <th>PE</th>\n",
       "    </tr>\n",
       "  </thead>\n",
       "  <tbody>\n",
       "    <tr>\n",
       "      <th>0</th>\n",
       "      <td>0</td>\n",
       "      <td>0</td>\n",
       "      <td>0</td>\n",
       "      <td>0</td>\n",
       "      <td>0</td>\n",
       "    </tr>\n",
       "  </tbody>\n",
       "</table>\n",
       "</div>"
      ],
      "text/plain": [
       "   AT  V  AP  RH  PE\n",
       "0   0  0   0   0   0"
      ]
     },
     "execution_count": 17,
     "metadata": {},
     "output_type": "execute_result"
    }
   ],
   "source": [
    "data.select([count(when(isnan(c), c)).alias(c) for c in data.columns]).toPandas()"
   ]
  },
  {
   "cell_type": "code",
   "execution_count": 18,
   "id": "90747460",
   "metadata": {},
   "outputs": [
    {
     "name": "stderr",
     "output_type": "stream",
     "text": [
      "                                                                                \r"
     ]
    },
    {
     "data": {
      "text/plain": [
       "38313"
      ]
     },
     "execution_count": 18,
     "metadata": {},
     "output_type": "execute_result"
    }
   ],
   "source": [
    "# Check duplicates\n",
    "dup_rows = data.count() - data.distinct().count()\n",
    "dup_rows"
   ]
  },
  {
   "cell_type": "code",
   "execution_count": 19,
   "id": "49c095fe",
   "metadata": {},
   "outputs": [
    {
     "data": {
      "text/plain": [
       "9527"
      ]
     },
     "execution_count": 19,
     "metadata": {},
     "output_type": "execute_result"
    }
   ],
   "source": [
    "# Drop duplicates\n",
    "data = data.drop_duplicates()\n",
    "data.count()"
   ]
  },
  {
   "cell_type": "markdown",
   "id": "24d44831",
   "metadata": {},
   "source": [
    "## --- Univariate"
   ]
  },
  {
   "cell_type": "code",
   "execution_count": 20,
   "id": "a0095464",
   "metadata": {},
   "outputs": [
    {
     "name": "stderr",
     "output_type": "stream",
     "text": [
      "                                                                                \r"
     ]
    },
    {
     "name": "stdout",
     "output_type": "stream",
     "text": [
      "+-------+------------------+------------------+------------------+------------------+------------------+\n",
      "|summary|                AT|                 V|                AP|                RH|                PE|\n",
      "+-------+------------------+------------------+------------------+------------------+------------------+\n",
      "|  count|              9527|              9527|              9527|              9527|              9527|\n",
      "|   mean|19.658225052652273|  54.2934207529865|1013.2370842767185| 73.33495117272386|454.33590958347924|\n",
      "| stddev| 7.444397081939809|12.686309047114976|5.9405260914255225|14.607513245887038| 17.03908021822378|\n",
      "|    min|              1.81|             25.36|            992.89|             25.56|            420.26|\n",
      "|    max|             37.11|             81.56|            1033.3|            100.16|            495.76|\n",
      "+-------+------------------+------------------+------------------+------------------+------------------+\n",
      "\n"
     ]
    }
   ],
   "source": [
    "data.describe().show()"
   ]
  },
  {
   "cell_type": "code",
   "execution_count": 21,
   "id": "aa895b6b",
   "metadata": {},
   "outputs": [
    {
     "data": {
      "image/png": "[encoded data removed]",
      "text/plain": [
       "<Figure size 864x504 with 5 Axes>"
      ]
     },
     "metadata": {
      "needs_background": "light"
     },
     "output_type": "display_data"
    }
   ],
   "source": [
    "plt.figure(figsize=(12,7))\n",
    "for i in range(1,6):\n",
    "    plt.subplot(2,3,i)\n",
    "    sns.distplot(data.toPandas()[data.columns[i-1]])\n",
    "plt.tight_layout()\n",
    "plt.show()"
   ]
  },
  {
   "cell_type": "markdown",
   "id": "0164e2fc",
   "metadata": {},
   "source": [
    "### Nhận xét:\n",
    "- Các biến đều không có phân phối theo phân phối chuẩn"
   ]
  },
  {
   "cell_type": "code",
   "execution_count": 22,
   "id": "1dadc84e",
   "metadata": {},
   "outputs": [
    {
     "data": {
      "image/png": "[encoded data removed]",
      "text/plain": [
       "<Figure size 864x504 with 5 Axes>"
      ]
     },
     "metadata": {
      "needs_background": "light"
     },
     "output_type": "display_data"
    }
   ],
   "source": [
    "plt.figure(figsize=(12,7))\n",
    "for i in range(1,6):\n",
    "    plt.subplot(2,3,i)\n",
    "    sns.boxplot(data.toPandas()[data.columns[i-1]])\n",
    "plt.tight_layout()\n",
    "plt.show()"
   ]
  },
  {
   "cell_type": "markdown",
   "id": "06d6593e",
   "metadata": {},
   "source": [
    "### Nhận xét:\n",
    "- Các biến AP, RH có outliers\n",
    "- AT, V, PE không có outliers"
   ]
  },
  {
   "cell_type": "markdown",
   "id": "b5188382",
   "metadata": {},
   "source": [
    "## --- Bivariate"
   ]
  },
  {
   "cell_type": "code",
   "execution_count": 23,
   "id": "3e9d390b",
   "metadata": {},
   "outputs": [],
   "source": [
    "# sns.pairplot(data.toPandas())\n",
    "# plt.show()"
   ]
  },
  {
   "cell_type": "code",
   "execution_count": 24,
   "id": "178cbafc",
   "metadata": {
    "scrolled": true
   },
   "outputs": [
    {
     "data": {
      "text/html": [
       "<div>\n",
       "<style scoped>\n",
       "    .dataframe tbody tr th:only-of-type {\n",
       "        vertical-align: middle;\n",
       "    }\n",
       "\n",
       "    .dataframe tbody tr th {\n",
       "        vertical-align: top;\n",
       "    }\n",
       "\n",
       "    .dataframe thead th {\n",
       "        text-align: right;\n",
       "    }\n",
       "</style>\n",
       "<table border=\"1\" class=\"dataframe\">\n",
       "  <thead>\n",
       "    <tr style=\"text-align: right;\">\n",
       "      <th></th>\n",
       "      <th>AT</th>\n",
       "      <th>V</th>\n",
       "      <th>AP</th>\n",
       "      <th>RH</th>\n",
       "      <th>PE</th>\n",
       "    </tr>\n",
       "  </thead>\n",
       "  <tbody>\n",
       "    <tr>\n",
       "      <th>AT</th>\n",
       "      <td>1.000000</td>\n",
       "      <td>0.843689</td>\n",
       "      <td>-0.508222</td>\n",
       "      <td>-0.543947</td>\n",
       "      <td>-0.947908</td>\n",
       "    </tr>\n",
       "    <tr>\n",
       "      <th>V</th>\n",
       "      <td>0.843689</td>\n",
       "      <td>1.000000</td>\n",
       "      <td>-0.415718</td>\n",
       "      <td>-0.312214</td>\n",
       "      <td>-0.869900</td>\n",
       "    </tr>\n",
       "    <tr>\n",
       "      <th>AP</th>\n",
       "      <td>-0.508222</td>\n",
       "      <td>-0.415718</td>\n",
       "      <td>1.000000</td>\n",
       "      <td>0.101631</td>\n",
       "      <td>0.518687</td>\n",
       "    </tr>\n",
       "    <tr>\n",
       "      <th>RH</th>\n",
       "      <td>-0.543947</td>\n",
       "      <td>-0.312214</td>\n",
       "      <td>0.101631</td>\n",
       "      <td>1.000000</td>\n",
       "      <td>0.391175</td>\n",
       "    </tr>\n",
       "    <tr>\n",
       "      <th>PE</th>\n",
       "      <td>-0.947908</td>\n",
       "      <td>-0.869900</td>\n",
       "      <td>0.518687</td>\n",
       "      <td>0.391175</td>\n",
       "      <td>1.000000</td>\n",
       "    </tr>\n",
       "  </tbody>\n",
       "</table>\n",
       "</div>"
      ],
      "text/plain": [
       "          AT         V        AP        RH        PE\n",
       "AT  1.000000  0.843689 -0.508222 -0.543947 -0.947908\n",
       "V   0.843689  1.000000 -0.415718 -0.312214 -0.869900\n",
       "AP -0.508222 -0.415718  1.000000  0.101631  0.518687\n",
       "RH -0.543947 -0.312214  0.101631  1.000000  0.391175\n",
       "PE -0.947908 -0.869900  0.518687  0.391175  1.000000"
      ]
     },
     "execution_count": 24,
     "metadata": {},
     "output_type": "execute_result"
    }
   ],
   "source": [
    "data.toPandas().corr()"
   ]
  },
  {
   "cell_type": "code",
   "execution_count": 25,
   "id": "9ce1d06d",
   "metadata": {},
   "outputs": [
    {
     "data": {
      "image/png": "[encoded data removed]",
      "text/plain": [
       "<Figure size 432x288 with 2 Axes>"
      ]
     },
     "metadata": {
      "needs_background": "light"
     },
     "output_type": "display_data"
    }
   ],
   "source": [
    "sns.heatmap(data.toPandas().corr(), vmin=-1, vmax=1, annot=True)\n",
    "plt.show()"
   ]
  },
  {
   "cell_type": "markdown",
   "id": "cced32dd",
   "metadata": {},
   "source": [
    "### Nhận xét:\n",
    "- Các biến AT, V có tương quan mạnh với nhau (0.84) và tương quan mạnh với output PE"
   ]
  },
  {
   "cell_type": "markdown",
   "id": "51964340",
   "metadata": {},
   "source": [
    "## --- Drop outliers"
   ]
  },
  {
   "cell_type": "code",
   "execution_count": 26,
   "id": "0f9d4b24",
   "metadata": {},
   "outputs": [],
   "source": [
    "def drop_outliers(data, contVar):\n",
    "    mean_val = data.agg({contVar:'mean'}).collect()[0][0]\n",
    "    stddev_val = data.agg({contVar:'stddev'}).collect()[0][0]\n",
    "\n",
    "    low_bound = mean_val - (3*stddev_val)\n",
    "    high_bound = mean_val + (3*stddev_val)\n",
    "\n",
    "    data = data.where((data[contVar]>=low_bound) & (data[contVar]<=high_bound))\n",
    "    return data"
   ]
  },
  {
   "cell_type": "code",
   "execution_count": 27,
   "id": "b3349b4e",
   "metadata": {},
   "outputs": [
    {
     "name": "stderr",
     "output_type": "stream",
     "text": [
      "                                                                                \r"
     ]
    },
    {
     "data": {
      "text/plain": [
       "9470"
      ]
     },
     "execution_count": 27,
     "metadata": {},
     "output_type": "execute_result"
    }
   ],
   "source": [
    "for contVar in data.columns:\n",
    "    data = drop_outliers(data, contVar)\n",
    "data.count()"
   ]
  },
  {
   "cell_type": "code",
   "execution_count": 28,
   "id": "fc9628bd",
   "metadata": {},
   "outputs": [],
   "source": [
    "# Thực hiện MinMaxScaler\n",
    "def min_max_scaler(df, cols_to_scale):\n",
    "    # Takes a dataframe and list of columns to minmax scale. Returns a dataframe.\n",
    "    for col in cols_to_scale:\n",
    "        # Define min and max values and collect them\n",
    "        max_values = df.agg({col: 'max'}).collect()[0][0]\n",
    "        min_values = df.agg({col: 'min'}).collect()[0][0]\n",
    "        new_column_name = 'scaled_' + col\n",
    "        # Create a new column based off the scaled data\n",
    "        df = df.withColumn(new_column_name, \n",
    "                      (df[col] - min_values) / (max_values - min_values))\n",
    "    return df"
   ]
  },
  {
   "cell_type": "code",
   "execution_count": 29,
   "id": "ba9c7f94",
   "metadata": {},
   "outputs": [
    {
     "name": "stdout",
     "output_type": "stream",
     "text": [
      "+-----+-----+-------+-----+------+-------------------+-------------------+-------------------+-------------------+-------------------+\n",
      "|   AT|    V|     AP|   RH|    PE|          scaled_AT|           scaled_V|          scaled_AP|          scaled_RH|          scaled_PE|\n",
      "+-----+-----+-------+-----+------+-------------------+-------------------+-------------------+-------------------+-------------------+\n",
      "|27.62|71.14| 1011.6| 52.8|434.72| 0.7311614846558331| 0.8145907698439612|0.45416098109386127|0.33041139294098204|0.19152306563017385|\n",
      "|15.84|52.72|1026.45|62.57|464.93|0.39745042335641834|0.48683277750973836| 0.8717643726989521| 0.4685423132586315| 0.5916554027835265|\n",
      "|27.04|65.06|1013.33|52.37|439.84| 0.7147308922270101| 0.7064056780074953| 0.5028123203144443|0.32433193182451897| 0.2593375704935844|\n",
      "|17.78|50.66|1015.09| 91.9|456.11|0.45240794452835925| 0.4501779468130714| 0.5523064116097252|  0.883217846116209|0.47483411372102646|\n",
      "|31.76|66.54|1003.02|49.64|430.18|  0.848441918405275|  0.732740258742377| 0.2128798606283738|0.28573445674086045|0.13139050212127484|\n",
      "+-----+-----+-------+-----+------+-------------------+-------------------+-------------------+-------------------+-------------------+\n",
      "only showing top 5 rows\n",
      "\n"
     ]
    }
   ],
   "source": [
    "data = min_max_scaler(data, data.columns)\n",
    "data.show(5)"
   ]
  },
  {
   "cell_type": "markdown",
   "id": "e784c33d",
   "metadata": {},
   "source": [
    "## --- Formating data"
   ]
  },
  {
   "cell_type": "code",
   "execution_count": 30,
   "id": "89535e60",
   "metadata": {},
   "outputs": [],
   "source": [
    "assembler = VectorAssembler(\n",
    "                    inputCols=['scaled_AT', 'scaled_AP','scaled_RH', 'scaled_V'],\n",
    "                    outputCol='features'\n",
    "                            )"
   ]
  },
  {
   "cell_type": "code",
   "execution_count": 31,
   "id": "612731bc",
   "metadata": {},
   "outputs": [],
   "source": [
    "data_pre = assembler.transform(data)"
   ]
  },
  {
   "cell_type": "code",
   "execution_count": 32,
   "id": "dee178e3",
   "metadata": {},
   "outputs": [
    {
     "name": "stdout",
     "output_type": "stream",
     "text": [
      "+-------------------------------------------------------------------------------+\n",
      "|features                                                                       |\n",
      "+-------------------------------------------------------------------------------+\n",
      "|[0.7311614846558331,0.45416098109386127,0.33041139294098204,0.8145907698439612]|\n",
      "|[0.39745042335641834,0.8717643726989521,0.4685423132586315,0.48683277750973836]|\n",
      "|[0.7147308922270101,0.5028123203144443,0.32433193182451897,0.7064056780074953] |\n",
      "+-------------------------------------------------------------------------------+\n",
      "only showing top 3 rows\n",
      "\n"
     ]
    }
   ],
   "source": [
    "data_pre.select('features').show(3, False) "
   ]
  },
  {
   "cell_type": "code",
   "execution_count": 33,
   "id": "1c5f7805",
   "metadata": {},
   "outputs": [
    {
     "name": "stdout",
     "output_type": "stream",
     "text": [
      "+--------------------+------+\n",
      "|            features|    PE|\n",
      "+--------------------+------+\n",
      "|[0.73116148465583...|434.72|\n",
      "|[0.39745042335641...|464.93|\n",
      "|[0.71473089222701...|439.84|\n",
      "+--------------------+------+\n",
      "only showing top 3 rows\n",
      "\n"
     ]
    }
   ],
   "source": [
    "final_data = data_pre.select('features','PE')\n",
    "final_data.show(3)"
   ]
  },
  {
   "cell_type": "code",
   "execution_count": 34,
   "id": "8a9907a7",
   "metadata": {},
   "outputs": [],
   "source": [
    "train_data, test_data = final_data.randomSplit([0.8, 0.2], seed=42)"
   ]
  },
  {
   "cell_type": "code",
   "execution_count": 35,
   "id": "c334bf77",
   "metadata": {},
   "outputs": [
    {
     "name": "stderr",
     "output_type": "stream",
     "text": [
      "[Stage 163:>                                                        (0 + 1) / 1]\r"
     ]
    },
    {
     "name": "stdout",
     "output_type": "stream",
     "text": [
      "+-------+------------------+\n",
      "|summary|                PE|\n",
      "+-------+------------------+\n",
      "|  count|              7644|\n",
      "|   mean| 454.4092949149123|\n",
      "| stddev|17.078811109537284|\n",
      "|    min|            420.26|\n",
      "|    max|            495.76|\n",
      "+-------+------------------+\n",
      "\n"
     ]
    },
    {
     "name": "stderr",
     "output_type": "stream",
     "text": [
      "\r",
      "                                                                                \r"
     ]
    }
   ],
   "source": [
    "train_data.describe().show()"
   ]
  },
  {
   "cell_type": "code",
   "execution_count": 36,
   "id": "91c7eb12",
   "metadata": {},
   "outputs": [
    {
     "name": "stdout",
     "output_type": "stream",
     "text": [
      "+-------+------------------+\n",
      "|summary|                PE|\n",
      "+-------+------------------+\n",
      "|  count|              1826|\n",
      "|   mean| 453.5372126434092|\n",
      "| stddev|16.695019574996863|\n",
      "|    min|            421.57|\n",
      "|    max|            494.91|\n",
      "+-------+------------------+\n",
      "\n"
     ]
    }
   ],
   "source": [
    "test_data.describe().show()"
   ]
  },
  {
   "cell_type": "markdown",
   "id": "ce701b8d",
   "metadata": {},
   "source": [
    "# 3. Build Model\n",
    "- Model 1: Linear Regression\n",
    "- Model 2: Decision Tree Regressor\n",
    "- Model 3: Random Forest Regressor\n",
    "- Model 4: GBT Regressor"
   ]
  },
  {
   "cell_type": "markdown",
   "id": "698a9ef2",
   "metadata": {},
   "source": [
    "## --- Linear Regression"
   ]
  },
  {
   "cell_type": "code",
   "execution_count": 37,
   "id": "1971d52e",
   "metadata": {},
   "outputs": [],
   "source": [
    "lr = LinearRegression(featuresCol='features', #inputs\n",
    "                      labelCol='PE', #ouput\n",
    "                      predictionCol='Predict_PE'  #prediction\n",
    "                     )"
   ]
  },
  {
   "cell_type": "code",
   "execution_count": 38,
   "id": "32737f3a",
   "metadata": {},
   "outputs": [
    {
     "name": "stderr",
     "output_type": "stream",
     "text": [
      "22/01/20 14:43:22 WARN Instrumentation: [df9714d0] regParam is zero, which might cause numerical instability and overfitting.\n",
      "22/01/20 14:43:22 WARN InstanceBuilder$NativeBLAS: Failed to load implementation from:dev.ludovic.netlib.blas.JNIBLAS\n",
      "22/01/20 14:43:22 WARN InstanceBuilder$NativeBLAS: Failed to load implementation from:dev.ludovic.netlib.blas.ForeignLinkerBLAS\n",
      "22/01/20 14:43:22 WARN InstanceBuilder$NativeLAPACK: Failed to load implementation from:dev.ludovic.netlib.lapack.JNILAPACK\n"
     ]
    }
   ],
   "source": [
    "lrModel = lr.fit(train_data)"
   ]
  },
  {
   "cell_type": "code",
   "execution_count": 39,
   "id": "079e3cf0",
   "metadata": {},
   "outputs": [],
   "source": [
    "# Check test dataset\n",
    "test_model_1 = lrModel.transform(test_data)"
   ]
  },
  {
   "cell_type": "code",
   "execution_count": 40,
   "id": "c8376c3c",
   "metadata": {},
   "outputs": [
    {
     "name": "stdout",
     "output_type": "stream",
     "text": [
      "+------------------+------+\n",
      "|        Predict_PE|    PE|\n",
      "+------------------+------+\n",
      "|  493.471190158128|488.69|\n",
      "|489.52372253682705| 485.2|\n",
      "| 488.8648954745843|491.35|\n",
      "| 488.6033375534567|488.92|\n",
      "|488.44435817564045|490.78|\n",
      "+------------------+------+\n",
      "only showing top 5 rows\n",
      "\n"
     ]
    }
   ],
   "source": [
    "# Inspect result\n",
    "test_model_1.select('Predict_PE','PE').show(5)"
   ]
  },
  {
   "cell_type": "code",
   "execution_count": 41,
   "id": "01ad84c1",
   "metadata": {},
   "outputs": [],
   "source": [
    "test_result_1 = lrModel.evaluate(test_data)"
   ]
  },
  {
   "cell_type": "code",
   "execution_count": 42,
   "id": "00d3a5b4",
   "metadata": {},
   "outputs": [
    {
     "name": "stdout",
     "output_type": "stream",
     "text": [
      "+-----------------+------------------+-----------------+-----------------+\n",
      "|Model            |R2                |RMSE             |MSE              |\n",
      "+-----------------+------------------+-----------------+-----------------+\n",
      "|Linear Regression|0.9265624745911857|4.523004267501983|20.45756760384115|\n",
      "+-----------------+------------------+-----------------+-----------------+\n",
      "\n"
     ]
    }
   ],
   "source": [
    "result_columns = ['Model','R2','RMSE','MSE']\n",
    "result = spark.createDataFrame([('Linear Regression',\n",
    "                                 test_result_1.r2,\n",
    "                                 test_result_1.rootMeanSquaredError, \n",
    "                                 test_result_1.meanSquaredError)],\n",
    "                               result_columns)\n",
    "result.show(truncate=False)"
   ]
  },
  {
   "cell_type": "markdown",
   "id": "71473f11",
   "metadata": {},
   "source": [
    "## --- Decision Tree"
   ]
  },
  {
   "cell_type": "code",
   "execution_count": 43,
   "id": "738b083d",
   "metadata": {},
   "outputs": [],
   "source": [
    "tree = DecisionTreeRegressor(featuresCol='features', #inputs\n",
    "                      labelCol='PE', #ouput\n",
    "                      predictionCol='Predict_PE'  #prediction\n",
    "                     )"
   ]
  },
  {
   "cell_type": "code",
   "execution_count": 44,
   "id": "dbeffe6a",
   "metadata": {},
   "outputs": [],
   "source": [
    "# Fit model\n",
    "treeModel = tree.fit(train_data)"
   ]
  },
  {
   "cell_type": "code",
   "execution_count": 45,
   "id": "377b7c90",
   "metadata": {},
   "outputs": [
    {
     "name": "stdout",
     "output_type": "stream",
     "text": [
      "+------------------+------+\n",
      "|Predict_PE        |PE    |\n",
      "+------------------+------+\n",
      "|488.46802480597245|488.69|\n",
      "|488.46802480597245|485.2 |\n",
      "|485.0507973512989 |491.35|\n",
      "+------------------+------+\n",
      "only showing top 3 rows\n",
      "\n"
     ]
    }
   ],
   "source": [
    "# Evaluate\n",
    "test_model_2 = treeModel.transform(test_data)\n",
    "test_model_2.select('Predict_PE', 'PE').show(3, False)"
   ]
  },
  {
   "cell_type": "code",
   "execution_count": 46,
   "id": "cee61543",
   "metadata": {},
   "outputs": [],
   "source": [
    "evaluator = RegressionEvaluator(labelCol=\"PE\", \n",
    "                                predictionCol=\"Predict_PE\")\n",
    "rmse = evaluator.evaluate(test_model_2, {evaluator.metricName:'rmse'})\n",
    "mse = evaluator.evaluate(test_model_2, {evaluator.metricName:'mse'})\n",
    "r2 = evaluator.evaluate(test_model_2, {evaluator.metricName:'r2'})"
   ]
  },
  {
   "cell_type": "code",
   "execution_count": 47,
   "id": "417156c5",
   "metadata": {},
   "outputs": [
    {
     "name": "stdout",
     "output_type": "stream",
     "text": [
      "+-----------------+------------------+-----------------+------------------+\n",
      "|Model            |R2                |RMSE             |MSE               |\n",
      "+-----------------+------------------+-----------------+------------------+\n",
      "|Linear Regression|0.9265624745911857|4.523004267501983|20.45756760384115 |\n",
      "|Decision Tree    |0.9294706069643105|4.432543982081297|19.647446153085124|\n",
      "+-----------------+------------------+-----------------+------------------+\n",
      "\n"
     ]
    }
   ],
   "source": [
    "result_2 = spark.createDataFrame([('Decision Tree', r2, rmse, mse)],\n",
    "                               result_columns)\n",
    "result = result.union(result_2)\n",
    "result.show(truncate=False)"
   ]
  },
  {
   "cell_type": "markdown",
   "id": "7f9115d9",
   "metadata": {},
   "source": [
    "## --- Random Forest"
   ]
  },
  {
   "cell_type": "code",
   "execution_count": 48,
   "id": "b8dad9d0",
   "metadata": {},
   "outputs": [],
   "source": [
    "rfc = RandomForestRegressor(featuresCol='features', #inputs\n",
    "                      labelCol='PE', #ouput\n",
    "                      predictionCol='Predict_PE'  #prediction\n",
    "                     )"
   ]
  },
  {
   "cell_type": "code",
   "execution_count": 49,
   "id": "67635d7f",
   "metadata": {},
   "outputs": [],
   "source": [
    "# Fit model\n",
    "rfcModel = rfc.fit(train_data)"
   ]
  },
  {
   "cell_type": "code",
   "execution_count": 50,
   "id": "c973d94f",
   "metadata": {},
   "outputs": [
    {
     "name": "stdout",
     "output_type": "stream",
     "text": [
      "+------------------+------+\n",
      "|Predict_PE        |PE    |\n",
      "+------------------+------+\n",
      "|484.23187424611785|488.69|\n",
      "|484.61343609190027|485.2 |\n",
      "|484.5421155307442 |491.35|\n",
      "+------------------+------+\n",
      "only showing top 3 rows\n",
      "\n"
     ]
    }
   ],
   "source": [
    "# Evaluate\n",
    "test_model_3 = rfcModel.transform(test_data)\n",
    "test_model_3.select('Predict_PE', 'PE').show(3, False)"
   ]
  },
  {
   "cell_type": "code",
   "execution_count": 51,
   "id": "5e3c28d3",
   "metadata": {},
   "outputs": [
    {
     "name": "stderr",
     "output_type": "stream",
     "text": [
      "                                                                                \r"
     ]
    }
   ],
   "source": [
    "rmse = evaluator.evaluate(test_model_3, {evaluator.metricName:'rmse'})\n",
    "mse = evaluator.evaluate(test_model_3, {evaluator.metricName:'mse'})\n",
    "r2 = evaluator.evaluate(test_model_3, {evaluator.metricName:'r2'})"
   ]
  },
  {
   "cell_type": "code",
   "execution_count": 52,
   "id": "872b1fe6",
   "metadata": {},
   "outputs": [
    {
     "name": "stdout",
     "output_type": "stream",
     "text": [
      "+-----------------+------------------+-----------------+------------------+\n",
      "|Model            |R2                |RMSE             |MSE               |\n",
      "+-----------------+------------------+-----------------+------------------+\n",
      "|Linear Regression|0.9265624745911857|4.523004267501983|20.45756760384115 |\n",
      "|Decision Tree    |0.9294706069643105|4.432543982081297|19.647446153085124|\n",
      "|Random Forest    |0.937539385978671 |4.171296922561499|17.399718016171033|\n",
      "+-----------------+------------------+-----------------+------------------+\n",
      "\n"
     ]
    }
   ],
   "source": [
    "result_3 = spark.createDataFrame([('Random Forest', r2, rmse, mse)],\n",
    "                               result_columns)\n",
    "result = result.union(result_3)\n",
    "result.show(truncate=False)"
   ]
  },
  {
   "cell_type": "markdown",
   "id": "4e1b3ffd",
   "metadata": {},
   "source": [
    "### Find and Build model with Important features"
   ]
  },
  {
   "cell_type": "code",
   "execution_count": 53,
   "id": "1b71db48",
   "metadata": {},
   "outputs": [
    {
     "name": "stdout",
     "output_type": "stream",
     "text": [
      "Relative importance of features: (4,[0,1,2,3],[0.5786541759747583,0.04951538227702561,0.01002943348254191,0.36180100826567424])\n"
     ]
    }
   ],
   "source": [
    "print('Relative importance of features:', rfcModel.featureImportances)"
   ]
  },
  {
   "cell_type": "code",
   "execution_count": 54,
   "id": "db196859",
   "metadata": {},
   "outputs": [],
   "source": [
    "# Important features: 'AT', 'V'\n",
    "assembler_2 = VectorAssembler(\n",
    "                    inputCols=['scaled_AT', 'scaled_V'],\n",
    "                    outputCol='features'\n",
    "                            )"
   ]
  },
  {
   "cell_type": "code",
   "execution_count": 55,
   "id": "5bde4cf2",
   "metadata": {},
   "outputs": [],
   "source": [
    "data_pre_2 = assembler_2.transform(data)"
   ]
  },
  {
   "cell_type": "code",
   "execution_count": 56,
   "id": "2c5ad923",
   "metadata": {},
   "outputs": [
    {
     "name": "stdout",
     "output_type": "stream",
     "text": [
      "+-----------------------------------------+\n",
      "|features                                 |\n",
      "+-----------------------------------------+\n",
      "|[0.7311614846558331,0.8145907698439612]  |\n",
      "|[0.39745042335641834,0.48683277750973836]|\n",
      "|[0.7147308922270101,0.7064056780074953]  |\n",
      "+-----------------------------------------+\n",
      "only showing top 3 rows\n",
      "\n"
     ]
    }
   ],
   "source": [
    "data_pre_2.select('features').show(3, False) "
   ]
  },
  {
   "cell_type": "code",
   "execution_count": 57,
   "id": "69307025",
   "metadata": {},
   "outputs": [
    {
     "name": "stdout",
     "output_type": "stream",
     "text": [
      "+--------------------+------+\n",
      "|            features|    PE|\n",
      "+--------------------+------+\n",
      "|[0.73116148465583...|434.72|\n",
      "|[0.39745042335641...|464.93|\n",
      "|[0.71473089222701...|439.84|\n",
      "+--------------------+------+\n",
      "only showing top 3 rows\n",
      "\n"
     ]
    }
   ],
   "source": [
    "final_data_2 = data_pre_2.select('features','PE')\n",
    "final_data_2.show(3)"
   ]
  },
  {
   "cell_type": "code",
   "execution_count": 58,
   "id": "34d73e51",
   "metadata": {},
   "outputs": [],
   "source": [
    "train_data_2, test_data_2 = final_data_2.randomSplit([0.8, 0.2], seed=42)"
   ]
  },
  {
   "cell_type": "code",
   "execution_count": 59,
   "id": "438b5a0b",
   "metadata": {},
   "outputs": [],
   "source": [
    "# Fit model\n",
    "rfcModel = rfc.fit(train_data_2)"
   ]
  },
  {
   "cell_type": "code",
   "execution_count": 60,
   "id": "08b34ec9",
   "metadata": {},
   "outputs": [
    {
     "name": "stdout",
     "output_type": "stream",
     "text": [
      "+------------------+------+\n",
      "|Predict_PE        |PE    |\n",
      "+------------------+------+\n",
      "|485.0847515460067 |488.69|\n",
      "|484.8830454973604 |485.2 |\n",
      "|485.04776722057903|491.35|\n",
      "+------------------+------+\n",
      "only showing top 3 rows\n",
      "\n"
     ]
    }
   ],
   "source": [
    "# Evaluate\n",
    "test_model_3b = rfcModel.transform(test_data_2)\n",
    "test_model_3b.select('Predict_PE', 'PE').show(3, False)"
   ]
  },
  {
   "cell_type": "code",
   "execution_count": 61,
   "id": "85314fd3",
   "metadata": {},
   "outputs": [],
   "source": [
    "rmse = evaluator.evaluate(test_model_3b, {evaluator.metricName:'rmse'})\n",
    "mse = evaluator.evaluate(test_model_3b, {evaluator.metricName:'mse'})\n",
    "r2 = evaluator.evaluate(test_model_3b, {evaluator.metricName:'r2'})"
   ]
  },
  {
   "cell_type": "code",
   "execution_count": 62,
   "id": "60f62238",
   "metadata": {},
   "outputs": [
    {
     "name": "stdout",
     "output_type": "stream",
     "text": [
      "+----------------------------------+------------------+------------------+------------------+\n",
      "|Model                             |R2                |RMSE              |MSE               |\n",
      "+----------------------------------+------------------+------------------+------------------+\n",
      "|Linear Regression                 |0.9265624745911857|4.523004267501983 |20.45756760384115 |\n",
      "|Decision Tree                     |0.9294706069643105|4.432543982081297 |19.647446153085124|\n",
      "|Random Forest                     |0.937539385978671 |4.171296922561499 |17.399718016171033|\n",
      "|Random Forest (Important features)|0.9270907862944704|4.5208151686036535|20.437769788676878|\n",
      "+----------------------------------+------------------+------------------+------------------+\n",
      "\n"
     ]
    }
   ],
   "source": [
    "result_3b = spark.createDataFrame([('Random Forest (Important features)', r2, rmse, mse)],\n",
    "                               result_columns)\n",
    "result = result.union(result_3b)\n",
    "result.show(truncate=False)"
   ]
  },
  {
   "cell_type": "markdown",
   "id": "8dd3a01f",
   "metadata": {},
   "source": [
    "## --- GBT"
   ]
  },
  {
   "cell_type": "code",
   "execution_count": 63,
   "id": "a178cb7b",
   "metadata": {},
   "outputs": [],
   "source": [
    "gbt = GBTRegressor(featuresCol='features', #inputs\n",
    "                      labelCol='PE', #ouput\n",
    "                      predictionCol='Predict_PE'  #prediction\n",
    "                     )"
   ]
  },
  {
   "cell_type": "code",
   "execution_count": 64,
   "id": "e67891fd",
   "metadata": {},
   "outputs": [],
   "source": [
    "# Fit model\n",
    "gbtModel = gbt.fit(train_data)"
   ]
  },
  {
   "cell_type": "code",
   "execution_count": 65,
   "id": "994ae45c",
   "metadata": {},
   "outputs": [
    {
     "name": "stderr",
     "output_type": "stream",
     "text": [
      "\r",
      "[Stage 619:>                                                        (0 + 8) / 8]\r"
     ]
    },
    {
     "name": "stdout",
     "output_type": "stream",
     "text": [
      "+------------------+------+\n",
      "|Predict_PE        |PE    |\n",
      "+------------------+------+\n",
      "|489.51057277572977|488.69|\n",
      "|488.4985532635956 |485.2 |\n",
      "|486.68504846920126|491.35|\n",
      "+------------------+------+\n",
      "only showing top 3 rows\n",
      "\n"
     ]
    },
    {
     "name": "stderr",
     "output_type": "stream",
     "text": [
      "\r",
      "                                                                                \r"
     ]
    }
   ],
   "source": [
    "# Evaluate\n",
    "test_model_4 = gbtModel.transform(test_data)\n",
    "test_model_4.select('Predict_PE', 'PE').show(3, False)"
   ]
  },
  {
   "cell_type": "code",
   "execution_count": 66,
   "id": "a235c696",
   "metadata": {},
   "outputs": [],
   "source": [
    "rmse = evaluator.evaluate(test_model_4, {evaluator.metricName:'rmse'})\n",
    "mse = evaluator.evaluate(test_model_4, {evaluator.metricName:'mse'})\n",
    "r2 = evaluator.evaluate(test_model_4, {evaluator.metricName:'r2'})"
   ]
  },
  {
   "cell_type": "code",
   "execution_count": 67,
   "id": "d3e77c61",
   "metadata": {},
   "outputs": [
    {
     "name": "stdout",
     "output_type": "stream",
     "text": [
      "+----------------------------------+------------------+------------------+------------------+\n",
      "|Model                             |R2                |RMSE              |MSE               |\n",
      "+----------------------------------+------------------+------------------+------------------+\n",
      "|Linear Regression                 |0.9265624745911857|4.523004267501983 |20.45756760384115 |\n",
      "|Decision Tree                     |0.9294706069643105|4.432543982081297 |19.647446153085124|\n",
      "|Random Forest                     |0.937539385978671 |4.171296922561499 |17.399718016171033|\n",
      "|Random Forest (Important features)|0.9270907862944704|4.5208151686036535|20.437769788676878|\n",
      "|GBT                               |0.9439499903258445|3.95144395325708  |15.613909315731942|\n",
      "+----------------------------------+------------------+------------------+------------------+\n",
      "\n"
     ]
    }
   ],
   "source": [
    "result_4 = spark.createDataFrame([('GBT', r2, rmse, mse)],\n",
    "                               result_columns)\n",
    "result = result.union(result_4)\n",
    "result.show(truncate=False)"
   ]
  },
  {
   "cell_type": "markdown",
   "id": "0e8ded59",
   "metadata": {},
   "source": [
    "### Build model with Important features"
   ]
  },
  {
   "cell_type": "code",
   "execution_count": 68,
   "id": "46fdcce8",
   "metadata": {},
   "outputs": [],
   "source": [
    "# Fit model\n",
    "gbtModel = gbt.fit(train_data_2)"
   ]
  },
  {
   "cell_type": "code",
   "execution_count": 69,
   "id": "9d3db6f0",
   "metadata": {},
   "outputs": [
    {
     "name": "stdout",
     "output_type": "stream",
     "text": [
      "+------------------+------+\n",
      "|Predict_PE        |PE    |\n",
      "+------------------+------+\n",
      "|487.0154294812443 |488.69|\n",
      "|488.6939697619336 |485.2 |\n",
      "|487.02961085270897|491.35|\n",
      "+------------------+------+\n",
      "only showing top 3 rows\n",
      "\n"
     ]
    }
   ],
   "source": [
    "# Evaluate\n",
    "test_model_4b = gbtModel.transform(test_data_2)\n",
    "test_model_4b.select('Predict_PE', 'PE').show(3, False)"
   ]
  },
  {
   "cell_type": "code",
   "execution_count": 70,
   "id": "96112b26",
   "metadata": {},
   "outputs": [
    {
     "name": "stderr",
     "output_type": "stream",
     "text": [
      "                                                                                \r"
     ]
    }
   ],
   "source": [
    "rmse = evaluator.evaluate(test_model_4b, {evaluator.metricName:'rmse'})\n",
    "mse = evaluator.evaluate(test_model_4b, {evaluator.metricName:'mse'})\n",
    "r2 = evaluator.evaluate(test_model_4b, {evaluator.metricName:'r2'})"
   ]
  },
  {
   "cell_type": "code",
   "execution_count": 71,
   "id": "a7a9f5a9",
   "metadata": {
    "scrolled": false
   },
   "outputs": [
    {
     "name": "stdout",
     "output_type": "stream",
     "text": [
      "+----------------------------------+------------------+------------------+------------------+\n",
      "|Model                             |R2                |RMSE              |MSE               |\n",
      "+----------------------------------+------------------+------------------+------------------+\n",
      "|Linear Regression                 |0.9265624745911857|4.523004267501983 |20.45756760384115 |\n",
      "|Decision Tree                     |0.9294706069643105|4.432543982081297 |19.647446153085124|\n",
      "|Random Forest                     |0.937539385978671 |4.171296922561499 |17.399718016171033|\n",
      "|Random Forest (Important features)|0.9270907862944704|4.5208151686036535|20.437769788676878|\n",
      "|GBT                               |0.9439499903258445|3.95144395325708  |15.613909315731942|\n",
      "|GBT (Important features)          |0.9307517565245901|4.405852209689527 |19.411533693626094|\n",
      "+----------------------------------+------------------+------------------+------------------+\n",
      "\n"
     ]
    }
   ],
   "source": [
    "result_4b = spark.createDataFrame([('GBT (Important features)', r2, rmse, mse)],\n",
    "                               result_columns)\n",
    "result = result.union(result_4b)\n",
    "result.show(truncate=False)"
   ]
  },
  {
   "cell_type": "markdown",
   "id": "0da5478f",
   "metadata": {},
   "source": [
    "### Kết luận:\n",
    "- Model được xây dựng với thuật toán Gradient-Boosted Tree với tập dữ liệu gốc (đầy đủ feature) mang lại kết quả tốt nhất trong các model: R2 cao nhất ~ 94%, rmse nhỏ nhất ~ 3.95 và khá nhỏ so với stddev của PE (~17)\n",
    "- => Chọn model GBT"
   ]
  }
 ],
 "metadata": {
  "colab": {
   "collapsed_sections": [],
   "name": "Q1_Classification.ipynb",
   "provenance": []
  },
  "kernelspec": {
   "display_name": "Python 3 (ipykernel)",
   "language": "python",
   "name": "python3"
  },
  "language_info": {
   "codemirror_mode": {
    "name": "ipython",
    "version": 3
   },
   "file_extension": ".py",
   "mimetype": "text/x-python",
   "name": "python",
   "nbconvert_exporter": "python",
   "pygments_lexer": "ipython3",
   "version": "3.8.12"
  }
 },
 "nbformat": 4,
 "nbformat_minor": 5
}
